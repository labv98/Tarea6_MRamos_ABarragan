{
 "cells": [
  {
   "cell_type": "markdown",
   "metadata": {},
   "source": [
    "<img style=\"float: left; margin: 30px 15px 15px 15px;\" src=\"https://pngimage.net/wp-content/uploads/2018/06/logo-iteso-png-5.png\" width=\"300\" height=\"500\" /> \n",
    "    \n",
    "    \n",
    "### <font color='navy'> Simulación de procesos financieros. \n",
    "\n",
    "**Nombres:** \n",
    "\n",
    "Ramos Gutierrez Ana Marcela.\n",
    "\n",
    "Barragán Vázquez Lizbeth Alejandra.\n",
    "\n",
    "**Fecha:** 05 de marzo del 2020.\n",
    "\n",
    "**Expediente** : 714735.\n",
    "**Profesor:** Oscar David Jaramillo Zuluaga.\n",
    "\n",
    "# Tarea 6: Clase 10"
   ]
  },
  {
   "cell_type": "markdown",
   "metadata": {},
   "source": [
    "## Enunciado de tarea \n",
    "Resolver los cuestionamientos planteados de la clase 10"
   ]
  },
  {
   "cell_type": "markdown",
   "metadata": {},
   "source": [
    "### Ejercicio 1: \n",
    "> ## <font color ='red'>Tarea\n",
    "Seguir un procedimiento similar al mostrado cuando se generó una distribución binomial, pero en esta caso genere un código que genere variables aletorias Poisson cuya función de distribución de probabilidad esta dada por:\n",
    ">$$P(k,\\lambda)=\\frac{e^{-\\lambda}(\\lambda)^k}{k!}$$\n",
    "    \n",
    "> Demuestre matemáticamente que \n",
    "> $$P(k+1)=\\frac{\\lambda}{k+1}P(k)$$\n",
    "> y a partir de esta relación genere variables aletorias que distribuyen poisson usando el método de la transformada inversa.\n",
    "\n",
    "Enlace: https://es.wikipedia.org/wiki/Distribuci%C3%B3n_de_Poisson"
   ]
  },
  {
   "cell_type": "markdown",
   "metadata": {},
   "source": [
    "### Respuesta"
   ]
  },
  {
   "cell_type": "markdown",
   "metadata": {},
   "source": [
    "Con lo anterior, sabemos que:\n",
    "\n",
    "$$P_k=\\frac{e^{-\\lambda}\\cdot (\\lambda)^k}{k!}\\hspace{1cm} (1)$$\n",
    "\n",
    "y al obtener $P_{k+1}$ tenemos que:\n",
    "\n",
    "$$P_{k+1}=\\frac{e^{-\\lambda}\\cdot (\\lambda)^{k+1}}{(k+1)!} \\hspace{1cm} (2)$$\n",
    "\n",
    "De este modo, sustituimos las $k$ de la ecuación (1) por $(k+1)$. \n",
    "\n",
    "Haciendo que la ecuación (2) quede de forma recursiva, es decir, en términos de $P_k$, tomamos la ecuación (2) y se separan los factoriales de la siguiente forma $(k+1)(k!) = (k+1)!$ y a su vez se separan los exponentes, dando como resultado:\n",
    "\n",
    "$$P_{k+1} = \\frac{e^{-\\lambda}\\cdot (\\lambda)^{k}}{k!} \\frac{\\lambda}{k+1} $$\n",
    "\n",
    "Lo anterior se puede simplificar sustituyendo la ecuación (1), de forma que ya la ponemos como recursiva.\n",
    "\n",
    "$$ P_{k+1} = \\frac{\\lambda}{k+1} P_{k} $$"
   ]
  },
  {
   "cell_type": "code",
   "execution_count": 1,
   "metadata": {},
   "outputs": [],
   "source": [
    "import numpy as np\n",
    "import math\n",
    "import matplotlib.pyplot as plt\n",
    "from scipy import optimize"
   ]
  },
  {
   "cell_type": "code",
   "execution_count": 2,
   "metadata": {},
   "outputs": [],
   "source": [
    "def P_acum_Poisson_o(k,l):\n",
    "    global Pr\n",
    "    Pr = np.zeros(k)\n",
    "    Pr[0] = np.exp(-l)\n",
    "    def pr(i):\n",
    "        global Pr\n",
    "        Pr[i+1]=l/(i+1)*Pr[i]\n",
    "        \n",
    "    # Llenando el vector Pr usando compresión de listas\n",
    "    [pr(i) for i in range(k-1)]\n",
    "    return np.cumsum(Pr)"
   ]
  },
  {
   "cell_type": "code",
   "execution_count": 3,
   "metadata": {},
   "outputs": [
    {
     "data": {
      "image/png": "[encoded data removed]",
      "text/plain": [
       "<Figure size 936x288 with 2 Axes>"
      ]
     },
     "metadata": {
      "needs_background": "light"
     },
     "output_type": "display_data"
    }
   ],
   "source": [
    "n = 12; l = 4; N = 10**4\n",
    "\n",
    "p_acum = P_acum_Poisson_o(n,l)\n",
    "u = np.random.rand(N)\n",
    "\n",
    "# Gráfica de resultados\n",
    "plt.figure(figsize=[13,4])\n",
    "plt.subplot(121)\n",
    "d_pois = list(map(lambda j:sum(1 for i in p_acum if i<u[j]),range(N)))\n",
    "plt.hist(d_pois,100,density=True,label='Usando función creada')\n",
    "plt.legend()\n",
    "\n",
    "plt.subplot(122)\n",
    "d_pois_numpy = np.random.poisson(l,N)\n",
    "plt.hist(d_pois_numpy,100,density=True,label='Usando Numpy')\n",
    "plt.legend()\n",
    "np.histogram\n",
    "plt.show()"
   ]
  },
  {
   "cell_type": "markdown",
   "metadata": {},
   "source": [
    "### Respuesta planteada en el ejercicio "
   ]
  },
  {
   "cell_type": "markdown",
   "metadata": {},
   "source": [
    "La respuesta al ejercicio es la demostración de la distribución de Poisson por medio de factoriales y exponentes, dejando así la ecuación de manera recursiva. \n",
    "Posteriormente, en la segunda parte se realiza un código que muestra como resultado el histograma de la distribución mencionada con anterioridad de dos maneras, una de éstas es haciendo uso de una función creada analíticamente y la segunda por numpy."
   ]
  },
  {
   "cell_type": "markdown",
   "metadata": {},
   "source": [
    "# Tarea \n",
    "Partiendo que se desea generar variables aleatorias para la siguiente función de densidad\n",
    "$$f(x)=30(x^2-2x^3+x^4)$$\n",
    "Responda los siguientes literales:\n",
    "1. Usar como función que mayora a $f(x)$ a $t(x)=a \\sin(\\pi x)$ donde a es el máximo de la función $f(x)$ y graficarlas en una misma gráfica, para validar que en realidad si cumple la condición $t(x)\\geq f(x)$."
   ]
  },
  {
   "cell_type": "code",
   "execution_count": null,
   "metadata": {},
   "outputs": [],
   "source": []
  },
  {
   "cell_type": "code",
   "execution_count": null,
   "metadata": {},
   "outputs": [],
   "source": []
  },
  {
   "cell_type": "markdown",
   "metadata": {},
   "source": [
    "2. Encontrar la función de densidad $g(x)$ según lo visto en clase. Reportar todos los cálculos realizados para encontrar dicha función usando Markdown (Latex)."
   ]
  },
  {
   "cell_type": "markdown",
   "metadata": {},
   "source": []
  },
  {
   "cell_type": "code",
   "execution_count": null,
   "metadata": {},
   "outputs": [],
   "source": []
  },
  {
   "cell_type": "code",
   "execution_count": null,
   "metadata": {},
   "outputs": [],
   "source": []
  },
  {
   "cell_type": "markdown",
   "metadata": {},
   "source": [
    "3. Usar la función encontrada en el punto 2 y utilizar el método de la transformada inversa visto en la clase 9, para generar variables aleatorias que sigan la distribución $g(x)$. **Nota:** Recuerde que el método de la transformada inversa funciona con la distribución de probabilidad acumulada y no con su densidad. Nuevamente similar al punto anterior reportar todos los cálculos usando Markdown (Latex). "
   ]
  },
  {
   "cell_type": "markdown",
   "metadata": {},
   "source": [
    "4. Según el punto 3, generar 10000 puntos aleatorios que sigan la distribución $g(x)$ y comparar con su histograma para validar que los puntos generados siguen la distribución deseada. El resultado debe ser como sigue:\n",
    "![imagen.png](attachment:imagen.png)"
   ]
  },
  {
   "cell_type": "code",
   "execution_count": null,
   "metadata": {},
   "outputs": [],
   "source": []
  },
  {
   "cell_type": "code",
   "execution_count": null,
   "metadata": {},
   "outputs": [],
   "source": []
  },
  {
   "cell_type": "markdown",
   "metadata": {},
   "source": [
    "5. Genere 500 puntos aleatorios usando el método de aceptación y rechazo y las funciones $f(x)$ y $t(x)$ para validar que todos los cálculos anteriores están correctamente realizados. El resultado debe de ser como sigue:\n",
    "![imagen.png](attachment:imagen.png)"
   ]
  },
  {
   "cell_type": "code",
   "execution_count": null,
   "metadata": {},
   "outputs": [],
   "source": []
  },
  {
   "cell_type": "code",
   "execution_count": null,
   "metadata": {},
   "outputs": [],
   "source": []
  },
  {
   "cell_type": "code",
   "execution_count": null,
   "metadata": {},
   "outputs": [],
   "source": []
  },
  {
   "cell_type": "markdown",
   "metadata": {},
   "source": [
    "6. Comparar el porcentaje de puntos de aceptación cuando se usa $t(x)$ constante y $t(x)$ un pulso senoidal. Concluir"
   ]
  },
  {
   "cell_type": "code",
   "execution_count": null,
   "metadata": {},
   "outputs": [],
   "source": []
  },
  {
   "cell_type": "code",
   "execution_count": null,
   "metadata": {},
   "outputs": [],
   "source": []
  },
  {
   "cell_type": "code",
   "execution_count": null,
   "metadata": {},
   "outputs": [],
   "source": []
  },
  {
   "cell_type": "markdown",
   "metadata": {},
   "source": [
    "7. Genere una variable aleatoria $X$ a partir de la siguiente PDF\n",
    "$$f(x)=20x(1-x)^3$$ \n",
    "usando el método de aceptación y rechazo"
   ]
  },
  {
   "cell_type": "code",
   "execution_count": null,
   "metadata": {},
   "outputs": [],
   "source": []
  },
  {
   "cell_type": "code",
   "execution_count": null,
   "metadata": {},
   "outputs": [],
   "source": []
  },
  {
   "cell_type": "code",
   "execution_count": null,
   "metadata": {},
   "outputs": [],
   "source": []
  },
  {
   "cell_type": "markdown",
   "metadata": {},
   "source": [
    "### Respuesta planteada en el ejercicio \n"
   ]
  },
  {
   "cell_type": "markdown",
   "metadata": {},
   "source": []
  }
 ],
 "metadata": {
  "kernelspec": {
   "display_name": "Python 3",
   "language": "python",
   "name": "python3"
  },
  "language_info": {
   "codemirror_mode": {
    "name": "ipython",
    "version": 3
   },
   "file_extension": ".py",
   "mimetype": "text/x-python",
   "name": "python",
   "nbconvert_exporter": "python",
   "pygments_lexer": "ipython3",
   "version": "3.7.4"
  }
 },
 "nbformat": 4,
 "nbformat_minor": 2
}
